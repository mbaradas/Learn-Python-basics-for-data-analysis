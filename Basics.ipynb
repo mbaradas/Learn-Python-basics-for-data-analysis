{
 "cells": [
  {
   "cell_type": "code",
   "execution_count": 2,
   "metadata": {},
   "outputs": [
    {
     "name": "stdout",
     "output_type": "stream",
     "text": [
      "Hello, world!\n"
     ]
    }
   ],
   "source": [
    "print('Hello, world!')"
   ]
  },
  {
   "attachments": {},
   "cell_type": "markdown",
   "metadata": {},
   "source": [
    "# A level 1 title\n",
    "Here is some text to introduce a markdown\n",
    "## level 2 title\n",
    "**This** is very important\n",
    "## other level 2 title\n",
    "But *this is* as well!"
   ]
  },
  {
   "attachments": {},
   "cell_type": "markdown",
   "metadata": {},
   "source": [
    "# Declare a Variable\n",
    "https://openclassrooms.com/en/courses/2304731-learn-python-basics-for-data-analysis/7978962-declare-a-variable\n",
    "\n",
    "### + addition\n",
    "### - subtraction\n",
    "### * multiplication\n",
    "### / division\n",
    "\n",
    "% modulo : returns the remainder of the euclidean division\n",
    "\n",
    "** power : raises a number to a certain power\n",
    "\n",
    "// integer division: calculates the integer division (rounded down)\n"
   ]
  },
  {
   "cell_type": "code",
   "execution_count": 3,
   "metadata": {},
   "outputs": [
    {
     "name": "stdout",
     "output_type": "stream",
     "text": [
      "100\n",
      "729\n",
      "2\n"
     ]
    }
   ],
   "source": [
    "checkingAccount = 500\n",
    "savingsAccount = 1000\n",
    "\n",
    "# add 100 to our savings (Yeah!)\n",
    "savingsAccount = savingsAccount + 100\n",
    "\n",
    "#remove 50 from our checking account(Sniff)\n",
    "checkingAccount = checkingAccount - 50\n",
    "\n",
    "# calculate the number of days to save to reach 5000\n",
    "numberDaysSave = (5000 - checkingAccount) / 500\n",
    "\n",
    "# update our checking account (again) after the daily gains/losses\n",
    "checkingAccount = checkingAccount + (30 - 10) * 7\n",
    "\n",
    "print(savingsAccount % 500) # -> 100\n",
    "# 1100 = 500 * 2 + 100, so 1100 % 500 = remainder = 100\n",
    "\n",
    "print (9 ** 3) # -> 729, 9*9*9 = 729\n",
    "\n",
    "print(savingsAccount // 500) # -> 2\n",
    "# 1100 = 500 * 2 + 100, so 1100 // 500 = integer division result = 2*"
   ]
  },
  {
   "attachments": {},
   "cell_type": "markdown",
   "metadata": {},
   "source": []
  },
  {
   "cell_type": "code",
   "execution_count": 4,
   "metadata": {},
   "outputs": [
    {
     "name": "stdout",
     "output_type": "stream",
     "text": [
      "Your account balance was $ 10000 . \n",
      "You earned $ 75.0 this year.\n"
     ]
    }
   ],
   "source": [
    "# Exercise https://colab.research.google.com/github/OpenClassrooms-Student-Center/python-basics-data-analysis/blob/main/P2C1_ex1.ipynb\n",
    "# Solution https://colab.research.google.com/github/OpenClassrooms-Student-Center/python-basics-data-analysis/blob/main/P2C1_sol1.ipynb\n",
    "\n",
    "savingsAccount = 10000\n",
    "rate = 0.75\n",
    "\n",
    "interest = savingsAccount * (rate / 100)\n",
    "\n",
    "print(\"Your account balance was $\", savingsAccount, \". \\nYou earned $\", interest, \"this year.\")\n"
   ]
  },
  {
   "attachments": {},
   "cell_type": "markdown",
   "metadata": {},
   "source": [
    "## Write Shorter Code with Simplified Operators\n",
    "\n",
    "### -=  for subtraction\n",
    "### *=  for multiplication\n",
    "### /=  for division\n",
    "### %=  for the remainder of the integer division"
   ]
  },
  {
   "attachments": {},
   "cell_type": "markdown",
   "metadata": {},
   "source": []
  },
  {
   "cell_type": "code",
   "execution_count": 5,
   "metadata": {},
   "outputs": [
    {
     "name": "stdout",
     "output_type": "stream",
     "text": [
      "Long version savingsAccount = savingsAccount + 100 1100\n",
      "Short version savingsAccount += 100 1100\n"
     ]
    }
   ],
   "source": [
    "# long version\n",
    "savingsAccount = 1000\n",
    "savingsAccount = savingsAccount + 100\n",
    "print(\"Long version savingsAccount = savingsAccount + 100\", savingsAccount)\n",
    "\n",
    "# equivalent short version\n",
    "savingsAccount = 1000\n",
    "savingsAccount += 100\n",
    "print(\"Short version savingsAccount += 100\", savingsAccount)"
   ]
  },
  {
   "attachments": {},
   "cell_type": "markdown",
   "metadata": {},
   "source": [
    "### Declare a variable excercise\n",
    "https://colab.research.google.com/github/OpenClassrooms-Student-Center/python-basics-data-analysis/blob/main/P2C1_ex2.ipynb\n",
    "\n",
    "#### Declare a Variable\n",
    "* Run the following code to print the value of our savings\n",
    "* Modify the line savings = savings + 500 below the # TO DO comment, using the simplified operator +=\n",
    "* Run the code again to see the result of the calculation"
   ]
  },
  {
   "cell_type": "code",
   "execution_count": 6,
   "metadata": {},
   "outputs": [
    {
     "name": "stdout",
     "output_type": "stream",
     "text": [
      "Your savings are:  3500\n"
     ]
    }
   ],
   "source": [
    "account = 200\n",
    "savings = 3000\n",
    "\n",
    "# TO DO: modify the following line with the simplified operator +=\n",
    "savings += 500\n",
    "\n",
    "print(\"Your savings are: \", savings)"
   ]
  },
  {
   "attachments": {},
   "cell_type": "markdown",
   "metadata": {},
   "source": [
    "### Go Beyond Artihmetic\n",
    "#### three different types of variables:\n",
    "* Integer variables (int)\n",
    "* Decimal variables (float)\n",
    "* Character strings (string)"
   ]
  },
  {
   "cell_type": "code",
   "execution_count": 7,
   "metadata": {},
   "outputs": [],
   "source": [
    "firstName  = \"Benjamin\"\n",
    "interestRate = 1.5\n",
    "address = \"15 19 Bloomsbury Way, Holborn, London, WC1A 2TH\"\n",
    "# equivalent to\n",
    "address = '15 19 Bloomsbury Way, Holborn, London, WC1A 2TH'"
   ]
  },
  {
   "attachments": {},
   "cell_type": "markdown",
   "metadata": {},
   "source": [
    "### Handle Variable Types"
   ]
  },
  {
   "cell_type": "code",
   "execution_count": 8,
   "metadata": {},
   "outputs": [],
   "source": [
    "# integer variable (int)\n",
    "account = 10\n",
    "\n",
    "# decimal numbers (float)\n",
    "length = 1876.79\n",
    "width = 870.0"
   ]
  },
  {
   "cell_type": "code",
   "execution_count": 9,
   "metadata": {},
   "outputs": [
    {
     "name": "stdout",
     "output_type": "stream",
     "text": [
      "2.5\n"
     ]
    }
   ],
   "source": [
    "a = 7.5\n",
    "b = 3\n",
    "c = a/b\n",
    "print(c)\n",
    "# this will print 2.5, which is a float"
   ]
  },
  {
   "cell_type": "code",
   "execution_count": 10,
   "metadata": {},
   "outputs": [
    {
     "name": "stdout",
     "output_type": "stream",
     "text": [
      "2.0\n"
     ]
    }
   ],
   "source": [
    "a = 10\n",
    "b = 5\n",
    "c = a/b\n",
    "print(c)\n",
    "# it's a float"
   ]
  },
  {
   "attachments": {},
   "cell_type": "markdown",
   "metadata": {},
   "source": [
    "#### typecasting\n",
    "* int() : for integers\n",
    "* float() : for decimals"
   ]
  },
  {
   "cell_type": "code",
   "execution_count": 11,
   "metadata": {},
   "outputs": [
    {
     "name": "stdout",
     "output_type": "stream",
     "text": [
      "14\n"
     ]
    }
   ],
   "source": [
    "a = 14.0\n",
    "# a is a float\n",
    "a = int(a)\n",
    "print(a)\n",
    "# a is now an integer: it prints 14 and not 14.0"
   ]
  },
  {
   "attachments": {},
   "cell_type": "markdown",
   "metadata": {},
   "source": [
    "#### Handle Variable Types\n",
    "https://colab.research.google.com/github/OpenClassrooms-Student-Center/python-basics-data-analysis/blob/main/P2C2_ex1.ipynb"
   ]
  },
  {
   "cell_type": "code",
   "execution_count": 12,
   "metadata": {},
   "outputs": [
    {
     "name": "stdout",
     "output_type": "stream",
     "text": [
      "75.0\n"
     ]
    }
   ],
   "source": [
    "savingsAccount = 10000\n",
    "rate = 0.75\n",
    "\n",
    "interest = savingsAccount * (rate/100)\n",
    "\n",
    "print(interest)"
   ]
  },
  {
   "cell_type": "code",
   "execution_count": 13,
   "metadata": {},
   "outputs": [
    {
     "name": "stdout",
     "output_type": "stream",
     "text": [
      "75\n"
     ]
    }
   ],
   "source": [
    "# transform to an integer\n",
    "savingsAccount = 10000\n",
    "rate = 0.75\n",
    "\n",
    "interest = savingsAccount * (rate/100)\n",
    "interest = int(interest)\n",
    "\n",
    "print(interest)"
   ]
  },
  {
   "attachments": {},
   "cell_type": "markdown",
   "metadata": {},
   "source": [
    "### Character Strings"
   ]
  },
  {
   "cell_type": "code",
   "execution_count": 14,
   "metadata": {},
   "outputs": [],
   "source": [
    "city = 'New York'\n",
    "film = 'taxi driver'\n",
    "emptyString = ''\n"
   ]
  },
  {
   "cell_type": "code",
   "execution_count": 15,
   "metadata": {},
   "outputs": [
    {
     "name": "stdout",
     "output_type": "stream",
     "text": [
      "San FranciscoNew York\n"
     ]
    }
   ],
   "source": [
    "favoriteCityOne = \"San Francisco\"\n",
    "favoriteCityTwo = \"New York\"\n",
    "favorites = favoriteCityOne + favoriteCityTwo\n",
    "print(favorites) # => \"San FranciscoNew York\""
   ]
  },
  {
   "cell_type": "code",
   "execution_count": 16,
   "metadata": {},
   "outputs": [
    {
     "name": "stdout",
     "output_type": "stream",
     "text": [
      "My favorite cities are San Francisco and New York\n"
     ]
    }
   ],
   "source": [
    "favoriteCityOne = \"San Francisco\"\n",
    "favoriteCityTwo = \"New York\"\n",
    "favorites = \"My favorite cities are \" + favoriteCityOne + \" and \" + favoriteCityTwo\n",
    "print(favorites) # => \"My favorite cities are San Francisco and New York\""
   ]
  },
  {
   "attachments": {},
   "cell_type": "markdown",
   "metadata": {},
   "source": [
    "#### You cannot concatenate other types of variables with strings, such as numeric variables---this would return an error. To remedy this, you will need to cast your numeric variable to a string, via the  str()  function"
   ]
  },
  {
   "cell_type": "code",
   "execution_count": 17,
   "metadata": {},
   "outputs": [
    {
     "name": "stdout",
     "output_type": "stream",
     "text": [
      "I've been to Sydney 5 times\n"
     ]
    }
   ],
   "source": [
    "city = \"Sydney\"\n",
    "numberTrips = 5\n",
    "history =\"I've been to \" + city + \" \" + str(numberTrips) + \" times\"\n",
    "print(history) # => \"I've been to Sydney 5 times\""
   ]
  },
  {
   "attachments": {},
   "cell_type": "markdown",
   "metadata": {},
   "source": [
    "## Write Your Own Functions"
   ]
  },
  {
   "attachments": {},
   "cell_type": "markdown",
   "metadata": {},
   "source": [
    "### Discover Functions\n",
    "* len() :  a function that returns the length of an item. Do you remember strings? Using this function on a string tells you how many characters the string contains.\n",
    "* type() : lets you print the type of a variable.\n",
    "* pow(a, b) : lets you calculate a to the power of b. It is equivalent to writing a**b.\n",
    "* abs() :  returns the absolute value of a number."
   ]
  },
  {
   "cell_type": "code",
   "execution_count": 18,
   "metadata": {},
   "outputs": [
    {
     "name": "stdout",
     "output_type": "stream",
     "text": [
      "5\n",
      "<class 'str'>\n",
      "16\n",
      "100\n"
     ]
    }
   ],
   "source": [
    "a = \"apple\"\n",
    "print(len(a))\n",
    "print(type(a))\n",
    "print(pow(4,2))\n",
    "print(abs(-100))"
   ]
  },
  {
   "cell_type": "code",
   "execution_count": 19,
   "metadata": {},
   "outputs": [
    {
     "ename": "SyntaxError",
     "evalue": "incomplete input (2974893415.py, line 5)",
     "output_type": "error",
     "traceback": [
      "\u001b[1;36m  Cell \u001b[1;32mIn[19], line 5\u001b[1;36m\u001b[0m\n\u001b[1;33m    # lines\u001b[0m\n\u001b[1;37m           ^\u001b[0m\n\u001b[1;31mSyntaxError\u001b[0m\u001b[1;31m:\u001b[0m incomplete input\n"
     ]
    }
   ],
   "source": [
    "def functionName():\n",
    "    # statements\n",
    "    # that can go\n",
    "    # on several\n",
    "    # lines"
   ]
  },
  {
   "cell_type": "code",
   "execution_count": null,
   "metadata": {},
   "outputs": [
    {
     "name": "stdout",
     "output_type": "stream",
     "text": [
      "13\n"
     ]
    }
   ],
   "source": [
    "def printPerimeter():\n",
    "    dimension1 = 6\n",
    "    dimension2 = 4\n",
    "    dimension3 = 3\n",
    "    perimeter = dimension1 + dimension2 + dimension3\n",
    "    print(perimeter)\n",
    "\n",
    "printPerimeter() # => 13"
   ]
  },
  {
   "attachments": {},
   "cell_type": "markdown",
   "metadata": {},
   "source": [
    "#### Define the Parameters"
   ]
  },
  {
   "cell_type": "code",
   "execution_count": null,
   "metadata": {},
   "outputs": [],
   "source": [
    "def printPerimeter(dimension1, dimension2, dimension3):\n",
    "    perimeter = dimension1 + dimension2 + dimension3\n",
    "    print(perimeter)"
   ]
  },
  {
   "cell_type": "code",
   "execution_count": null,
   "metadata": {},
   "outputs": [
    {
     "name": "stdout",
     "output_type": "stream",
     "text": [
      "25\n",
      "7.5\n"
     ]
    }
   ],
   "source": [
    "printPerimeter(10, 11, 4) # => 25\n",
    "printPerimeter(2, 2, 3.5) # => 7.5"
   ]
  },
  {
   "attachments": {},
   "cell_type": "markdown",
   "metadata": {},
   "source": [
    "#### Define a Return Value"
   ]
  },
  {
   "cell_type": "code",
   "execution_count": null,
   "metadata": {},
   "outputs": [],
   "source": [
    "def calculatePerimeter(dimension1, dimension2, dimension3):\n",
    "    perimeter = dimension1 + dimension2 + dimension3\n",
    "    return perimeter"
   ]
  },
  {
   "cell_type": "code",
   "execution_count": null,
   "metadata": {},
   "outputs": [
    {
     "name": "stdout",
     "output_type": "stream",
     "text": [
      "The perimeter of my first triengle is 13 and that of my second is 24\n"
     ]
    }
   ],
   "source": [
    "perimeter1 = calculatePerimeter(6, 4, 3)\n",
    "perimeter2 = calculatePerimeter(10, 3, 11)\n",
    "\n",
    "print(\"The perimeter of my first triengle is\", perimeter1, \"and that of my second is\", perimeter2)"
   ]
  },
  {
   "attachments": {},
   "cell_type": "markdown",
   "metadata": {},
   "source": [
    "#### Use the Help Function if you Forget"
   ]
  },
  {
   "cell_type": "code",
   "execution_count": null,
   "metadata": {},
   "outputs": [
    {
     "name": "stdout",
     "output_type": "stream",
     "text": [
      "Help on built-in function pow in module builtins:\n",
      "\n",
      "pow(base, exp, mod=None)\n",
      "    Equivalent to base**exp with 2 arguments or base**exp % mod with 3 arguments\n",
      "    \n",
      "    Some types, such as ints, are able to use a more efficient algorithm when\n",
      "    invoked using the three argument form.\n",
      "\n"
     ]
    }
   ],
   "source": [
    "help(pow)"
   ]
  },
  {
   "attachments": {},
   "cell_type": "markdown",
   "metadata": {},
   "source": [
    "## Object-Oriented Programming\n",
    "https://openclassrooms.com/en/courses/2304731-learn-python-basics-for-data-analysis/7979247-object-oriented-programming"
   ]
  },
  {
   "attachments": {},
   "cell_type": "markdown",
   "metadata": {},
   "source": [
    "### Classes: Object Models\n",
    "In summary, **a class** is the outline of an object, defining its **attributes** and **methods**. From the same class, you can therefore create several objects of the same type, but with different attributes—these are called **class instances**.\n",
    "\n",
    "### Focus on Methods"
   ]
  },
  {
   "cell_type": "code",
   "execution_count": null,
   "metadata": {},
   "outputs": [],
   "source": [
    "var1 = 14\n",
    "var2 = 1031"
   ]
  },
  {
   "attachments": {},
   "cell_type": "markdown",
   "metadata": {},
   "source": [
    "The use of a method is always done via the   **variableName.method()**  notation. For example, **strings** have a method called   **lower()**  which will transform all the text contained in an object into lower case. Here's how to use it:"
   ]
  },
  {
   "cell_type": "code",
   "execution_count": null,
   "metadata": {},
   "outputs": [
    {
     "data": {
      "text/plain": [
       "'helo, world!'"
      ]
     },
     "execution_count": 28,
     "metadata": {},
     "output_type": "execute_result"
    }
   ],
   "source": [
    "a = \"HELO, WORLD!\"\n",
    "a.lower()"
   ]
  },
  {
   "attachments": {},
   "cell_type": "markdown",
   "metadata": {},
   "source": [
    "### String Methods\n",
    "* upper() :  returns the whole text in upper case.\n",
    "* capitalize() :  returns the whole text in lowercase with the first letter capitalized.\n",
    "* replace(old, new) :  this method takes two arguments: old and new, both of which are strings.  The method returns the original string with all occurrences of old replaced with new. \n",
    "* find(string)  returns either the index of the first occurrence of the string passed in the  argument, or -1 if it does not find it."
   ]
  },
  {
   "cell_type": "code",
   "execution_count": null,
   "metadata": {},
   "outputs": [
    {
     "name": "stdout",
     "output_type": "stream",
     "text": [
      "HERE IS AN EXAMPLE OF A STRING\n",
      "Here is an example of a string\n",
      "here is an test of a STRING\n",
      "8\n",
      "-1\n"
     ]
    }
   ],
   "source": [
    "text = \"here is an EXAMPLE of a STRING\" \n",
    "a = text.upper()\n",
    "print(a)\n",
    "print(text.capitalize())\n",
    "print(text.replace('EXAMPLE', 'test'))\n",
    "print(text.find('an'))\n",
    "print(text.find('two'))"
   ]
  },
  {
   "attachments": {},
   "cell_type": "markdown",
   "metadata": {},
   "source": [
    "#### String Methods\n",
    "* exercise: https://colab.research.google.com/github/OpenClassrooms-Student-Center/python-basics-data-analysis/blob/main/P2C4_ex.ipynb\n",
    "* solution: https://colab.research.google.com/github/OpenClassrooms-Student-Center/python-basics-data-analysis/blob/main/P2C4_sol.ipynb"
   ]
  },
  {
   "cell_type": "code",
   "execution_count": null,
   "metadata": {},
   "outputs": [
    {
     "name": "stdout",
     "output_type": "stream",
     "text": [
      "i am excited!!\n"
     ]
    }
   ],
   "source": [
    "mySentence = 'I AM EXCITED!!'\n",
    "mySentence = mySentence.lower()\n",
    "print(mySentence)"
   ]
  },
  {
   "cell_type": "code",
   "execution_count": null,
   "metadata": {},
   "outputs": [
    {
     "name": "stdout",
     "output_type": "stream",
     "text": [
      "i am calm!!\n"
     ]
    }
   ],
   "source": [
    "print(mySentence.replace('excited', 'calm'))"
   ]
  },
  {
   "attachments": {},
   "cell_type": "markdown",
   "metadata": {},
   "source": [
    "#### Quiz\n",
    "https://openclassrooms.com/en/courses/2304731-learn-python-basics-for-data-analysis/exercises/4679"
   ]
  },
  {
   "cell_type": "code",
   "execution_count": null,
   "metadata": {},
   "outputs": [
    {
     "name": "stdout",
     "output_type": "stream",
     "text": [
      "x: 27\n",
      "y: 5\n"
     ]
    }
   ],
   "source": [
    "x = 10\n",
    "x += 12\n",
    "y = int(x/4)\n",
    "x = x + y\n",
    "print(\"x:\", x)\n",
    "print(\"y:\", y)"
   ]
  },
  {
   "cell_type": "code",
   "execution_count": null,
   "metadata": {},
   "outputs": [
    {
     "name": "stdout",
     "output_type": "stream",
     "text": [
      "result= 1\n",
      "a= 0\n",
      "b= 16\n",
      "c= 1\n"
     ]
    }
   ],
   "source": [
    "a = 4\n",
    "def polynomial(a, b, c, x):\n",
    "    return a*x**2 + b*x + c\n",
    "\n",
    "b = a\n",
    "b *= a\n",
    "c = 1\n",
    "result = polynomial(a, b, c, 0)\n",
    "a += 3\n",
    "a = 0\n",
    "print(\"result=\", result)\n",
    "print(\"a=\", a)\n",
    "print(\"b=\", b)\n",
    "print(\"c=\", c)"
   ]
  },
  {
   "attachments": {},
   "cell_type": "markdown",
   "metadata": {},
   "source": [
    "# Create Collections to Store Your Objects\n",
    "https://openclassrooms.com/en/courses/2304731-learn-python-basics-for-data-analysis/7979496-create-collections-to-store-your-objects"
   ]
  },
  {
   "cell_type": "code",
   "execution_count": null,
   "metadata": {},
   "outputs": [],
   "source": [
    "customerName1 = 'Mario Weaver'\n",
    "customerName2 = 'Alberto Mendoza'\n",
    "customerName3 = 'Katharine Tyler'\n",
    "customerName4 = 'Isaac Steele'\n"
   ]
  },
  {
   "attachments": {},
   "cell_type": "markdown",
   "metadata": {},
   "source": [
    "## Declare a List to Store Your Items\n",
    "Lists are **ordered objects**, i.e., each item of the list is associated with a number corresponding to its order in the list. This number is called an ***index*** and it starts at 0 (not 1!). The first item is therefore associated with index 0, the second with index 1, etc."
   ]
  },
  {
   "cell_type": "code",
   "execution_count": null,
   "metadata": {},
   "outputs": [],
   "source": [
    "# here is a list containing the names of four customers\n",
    "customerName = ['Marion Weaver', 'Alberto Mendoza', 'Katharine Tyler', 'Isaac Steele']"
   ]
  },
  {
   "attachments": {},
   "cell_type": "markdown",
   "metadata": {},
   "source": [
    "Now that your list is created, you can perform two basic operations:\n",
    "* **Access** a value at a given index\n",
    "* **Change** the value at a given index"
   ]
  },
  {
   "cell_type": "code",
   "execution_count": null,
   "metadata": {},
   "outputs": [
    {
     "name": "stdout",
     "output_type": "stream",
     "text": [
      "Marion Weaver\n",
      "Marianne Weaver\n"
     ]
    }
   ],
   "source": [
    "# assign the value 'Marianne Weaver' to the first name in our list\n",
    "# it is index 0, because indices start at 0 in python!\n",
    "print(customerName[0])\n",
    "customerName[0] = 'Marianne Weaver'\n",
    "print(customerName[0])"
   ]
  },
  {
   "attachments": {},
   "cell_type": "markdown",
   "metadata": {},
   "source": [
    "* Python also lets you use negative indices to access or modify an item. \n",
    "* The index -1 corresponds to the last item of the list, -2 to the second last, and so on. \n",
    "* You can also access an index range by using the  :  operator. For example, 1:3 will let you access items two to four."
   ]
  },
  {
   "cell_type": "code",
   "execution_count": null,
   "metadata": {},
   "outputs": [
    {
     "name": "stdout",
     "output_type": "stream",
     "text": [
      "Isaac Steele\n",
      "['Alberto Mendoza', 'Katharine Tyler']\n",
      "['Marianne Weaver', 'Alberto Mendoza']\n"
     ]
    }
   ],
   "source": [
    "# print the last item\n",
    "print(customerName[-1])\n",
    "\n",
    "# access the second item to the 3rd\n",
    "print(customerName[1:3])\n",
    "\n",
    "#access all items from the beginning to the second\n",
    "print(customerName[:2])"
   ]
  },
  {
   "cell_type": "code",
   "execution_count": null,
   "metadata": {},
   "outputs": [],
   "source": [
    "amountAccount = [10000, 150, 300, 1800.74]"
   ]
  },
  {
   "cell_type": "code",
   "execution_count": null,
   "metadata": {},
   "outputs": [
    {
     "name": "stdout",
     "output_type": "stream",
     "text": [
      "['another list', 1]\n"
     ]
    }
   ],
   "source": [
    "strangeList = [4, 10.2, 'Marion Weaver', ['another list', 1]]\n",
    "\n",
    "# print the 4th item of the list\n",
    "print(strangeList[3])"
   ]
  },
  {
   "attachments": {},
   "cell_type": "markdown",
   "metadata": {},
   "source": [
    "### One List to Govern Them All\n",
    "* exercise: https://colab.research.google.com/github/OpenClassrooms-Student-Center/python-basics-data-analysis/blob/main/P3C1_ex1.ipynb\n",
    "* solution: https://colab.research.google.com/github/OpenClassrooms-Student-Center/python-basics-data-analysis/blob/main/P3C1_sol1.ipynb"
   ]
  },
  {
   "cell_type": "code",
   "execution_count": null,
   "metadata": {},
   "outputs": [
    {
     "name": "stdout",
     "output_type": "stream",
     "text": [
      "red\n",
      "yellow\n",
      "orange\n",
      "green\n",
      "blue\n",
      "\n",
      "red\n",
      "yellow\n",
      "orange\n",
      "emerald\n",
      "blue\n"
     ]
    }
   ],
   "source": [
    "colors = ['red', 'yellow', 'orange', 'green', 'blue']\n",
    "for color in colors:\n",
    "    print(color)\n",
    "\n",
    "print('')\n",
    "\n",
    "colors[3] = 'emerald'\n",
    "for color in colors:\n",
    "    print(color)"
   ]
  },
  {
   "attachments": {},
   "cell_type": "markdown",
   "metadata": {},
   "source": [
    "## List Methods\n",
    "* **search for** a specific item in the list.\n",
    "* **add** a new item at the end.\n",
    "* **insert** a new item at a specific index.\n",
    "* **delete** an item from the list.\n",
    "\n",
    "### Add Items to a List\n",
    "* You can create an empty list in Python and then add the items one by one via the **append** method:"
   ]
  },
  {
   "cell_type": "code",
   "execution_count": null,
   "metadata": {},
   "outputs": [
    {
     "name": "stdout",
     "output_type": "stream",
     "text": [
      "[7, 5]\n"
     ]
    }
   ],
   "source": [
    "list = []\n",
    "list.append(7)\n",
    "list.append(5)\n",
    "print(list) # => [7, 5]"
   ]
  },
  {
   "attachments": {},
   "cell_type": "markdown",
   "metadata": {},
   "source": [
    "Here are some other methods that are essential to know about lists:\n",
    "* **insert**  to insert a new item at a specific position. For example, **list.insert(1, 12)**  will insert the integer 12 at index 1, moving the old item 1 to index 2 and so on.\n",
    "* **extend** :  similar to append, but with another list. This allows you to concatenate several lists together.\n",
    "* **remove** : searches for the given item in the list and deletes the first occurrence. For example, if you want to delete 5 from your list, you can use :  **list.remove(5)** .\n",
    "* **index** : this method lets you find the index of the first occurrence of an item to be searched for in our list;\n",
    "* Keyword  **del**  to delete an item according to its index."
   ]
  },
  {
   "cell_type": "code",
   "execution_count": null,
   "metadata": {},
   "outputs": [
    {
     "name": "stdout",
     "output_type": "stream",
     "text": [
      "[]\n",
      "[7]\n",
      "[7, 5]\n",
      "[7, 12, 5]\n",
      "[4, 12, 5]\n",
      "[4, 5]\n",
      "1\n",
      "[4, 5, 1, 2, 3]\n",
      "[4, 5, 1, 3]\n"
     ]
    }
   ],
   "source": [
    "list = []\n",
    "print(list)\n",
    "\n",
    "list.append(7) # -> [7]\n",
    "print(list)\n",
    "\n",
    "list.append(5) # -> [7, 5]\n",
    "print(list)\n",
    "\n",
    "list.insert(1, 12) # [7, 12, 5]\n",
    "print(list)\n",
    "\n",
    "list[0] = 4 # -> [4, 12, 5]\n",
    "print(list)\n",
    "\n",
    "list.remove(12) # -> [4, 5]\n",
    "print(list)\n",
    "\n",
    "list.index(5) # prints 1\n",
    "print(list.index(5))\n",
    "\n",
    "list.extend([1, 2, 3]) # [4, 5, 1, 2, 3]\n",
    "print(list)\n",
    "\n",
    "del list[3] # [4, 5, 1, 3]\n",
    "print(list)"
   ]
  },
  {
   "attachments": {},
   "cell_type": "markdown",
   "metadata": {},
   "source": [
    "### Keep Control of Your List\n",
    "* The  **len()** function lets you retrieve the size of your list:"
   ]
  },
  {
   "cell_type": "code",
   "execution_count": null,
   "metadata": {},
   "outputs": [
    {
     "data": {
      "text/plain": [
       "3"
      ]
     },
     "execution_count": 14,
     "metadata": {},
     "output_type": "execute_result"
    }
   ],
   "source": [
    "list = [1, 2, 3]\n",
    "len(list) # will print 3"
   ]
  },
  {
   "attachments": {},
   "cell_type": "markdown",
   "metadata": {},
   "source": [
    "#### Adding Items to a List\n",
    "* exercise: https://colab.research.google.com/github/OpenClassrooms-Student-Center/python-basics-data-analysis/blob/main/P3C1_ex2.ipynb\n",
    "* solution: https://colab.research.google.com/github/OpenClassrooms-Student-Center/python-basics-data-analysis/blob/main/P3C1_sol2.ipynb"
   ]
  },
  {
   "cell_type": "code",
   "execution_count": null,
   "metadata": {},
   "outputs": [
    {
     "name": "stdout",
     "output_type": "stream",
     "text": [
      "['Joey', 'Martin', 'Mary']\n",
      "3\n",
      "['Joey', 'John', 'Mary']\n",
      "John\n",
      "Mary\n"
     ]
    }
   ],
   "source": [
    "guests = []\n",
    "guests.extend(['Joey', 'Martin', 'Mary'])\n",
    "print(guests)\n",
    "print(len(guests))\n",
    "guests.insert(1, 'John')\n",
    "guests.remove('Martin')\n",
    "print(guests)\n",
    "guests.remove('Joey')\n",
    "for guest in guests:\n",
    "    print(guest)"
   ]
  },
  {
   "attachments": {},
   "cell_type": "markdown",
   "metadata": {},
   "source": [
    "## Use Dictionaries\n",
    "* Dictionaries are another type of object, similar to lists, but which will let you do this with a single variable! \n",
    "* Indeed, a dictionary is a list of items organized via a system of keys. \n",
    "* With a real dictionary, you look up a word to access its definition. \n",
    "* In programming, this word corresponds to the key and the definition to the value associated with it. This is called a key-value pair.\n",
    "\n",
    "### Declare a Dictionary\n",
    "* Lists and dictionaries are declared in a similar way, except that a dictionary uses **curly brackets**  instead of square brackets, and key-value pairs must be declared:"
   ]
  },
  {
   "cell_type": "code",
   "execution_count": null,
   "metadata": {},
   "outputs": [
    {
     "name": "stdout",
     "output_type": "stream",
     "text": [
      "150\n"
     ]
    },
    {
     "data": {
      "text/plain": [
       "4"
      ]
     },
     "execution_count": 32,
     "metadata": {},
     "output_type": "execute_result"
    }
   ],
   "source": [
    "accounts = {'Marion Weaver': 10000, 'Alberto Mendoza': 150, 'Katharine Tyler': 300, 'Isaac Steele': 1800.74}\n",
    "print(accounts['Alberto Mendoza']) # -> 150\n",
    "len(accounts)"
   ]
  },
  {
   "attachments": {},
   "cell_type": "markdown",
   "metadata": {},
   "source": [
    "#### Manipulate the items of a Dictionary\n",
    "Here are the operations frequently carried out with dictionaries:\n",
    "* **Access** the value of an item\n",
    "* **Add** a new item (a new key-value pair)\n",
    "* **Delete** an item via its key"
   ]
  },
  {
   "cell_type": "code",
   "execution_count": null,
   "metadata": {},
   "outputs": [
    {
     "name": "stdout",
     "output_type": "stream",
     "text": [
      "1000\n"
     ]
    }
   ],
   "source": [
    "accounts['Marion Weaver'] -= 2000 # I subtract 2000 from Marion's account\n",
    "accounts['Kristian Roach'] = 1000 # I add a new individual in my dictionary\n",
    "print(accounts['Kristian Roach']) # print the value of Kristian's acount"
   ]
  },
  {
   "attachments": {},
   "cell_type": "markdown",
   "metadata": {},
   "source": [
    "You can delete an item via the **pop()** method by specifying the key of the item you want to delete."
   ]
  },
  {
   "cell_type": "code",
   "execution_count": null,
   "metadata": {},
   "outputs": [
    {
     "name": "stdout",
     "output_type": "stream",
     "text": [
      "{'Marion Weaver': 8000, 'Alberto Mendoza': 150, 'Katharine Tyler': 300, 'Isaac Steele': 1800.74, 'Kristian Roach': 1000}\n",
      "{'Marion Weaver': 8000, 'Katharine Tyler': 300, 'Isaac Steele': 1800.74, 'Kristian Roach': 1000}\n"
     ]
    }
   ],
   "source": [
    "print(accounts)\n",
    "accounts.pop('Alberto Mendoza') # deletes Alberto Mendoza from our dictionary\n",
    "print(accounts)"
   ]
  },
  {
   "cell_type": "code",
   "execution_count": null,
   "metadata": {},
   "outputs": [
    {
     "data": {
      "text/plain": [
       "4"
      ]
     },
     "execution_count": 35,
     "metadata": {},
     "output_type": "execute_result"
    }
   ],
   "source": [
    "len(accounts) # -> 4"
   ]
  },
  {
   "attachments": {},
   "cell_type": "markdown",
   "metadata": {},
   "source": [
    "### Understand Immutable Tuples\n",
    "The last type of collection we will look at are tuples. These are very similar to lists:\n",
    "* They are **ordered objects**, so we can access the different items stored in a tuple from their index.\n",
    "* You can store any kind of object in a tuple.\n",
    "The main difference is that once a **tuple has been declared, it cannot be modified**. It is then said that it is **immutable**.\n",
    "\n",
    "#### Declare a Tuple\n",
    "Tuples are declared in a very similar way to lists, except **parentheses** are used instead of square brackets:"
   ]
  },
  {
   "cell_type": "code",
   "execution_count": null,
   "metadata": {},
   "outputs": [],
   "source": [
    "my_tuple = (1, 2, 3, 'a', 'b')"
   ]
  },
  {
   "attachments": {},
   "cell_type": "markdown",
   "metadata": {},
   "source": [
    "#### Manipulate Tuples"
   ]
  },
  {
   "cell_type": "code",
   "execution_count": null,
   "metadata": {},
   "outputs": [
    {
     "name": "stdout",
     "output_type": "stream",
     "text": [
      "2\n",
      "b\n"
     ]
    }
   ],
   "source": [
    "print(my_tuple[1]) # -> 2\n",
    "print(my_tuple[4]) # -> 'b'"
   ]
  },
  {
   "cell_type": "code",
   "execution_count": null,
   "metadata": {},
   "outputs": [
    {
     "name": "stdout",
     "output_type": "stream",
     "text": [
      "1\n",
      "apple\n"
     ]
    }
   ],
   "source": [
    "a, b = (1, 'apple')\n",
    "print(a) # -> 1\n",
    "print(b) # -> 'apple'"
   ]
  },
  {
   "cell_type": "code",
   "execution_count": null,
   "metadata": {},
   "outputs": [
    {
     "ename": "TypeError",
     "evalue": "'tuple' object does not support item assignment",
     "output_type": "error",
     "traceback": [
      "\u001b[1;31m---------------------------------------------------------------------------\u001b[0m",
      "\u001b[1;31mTypeError\u001b[0m                                 Traceback (most recent call last)",
      "Cell \u001b[1;32mIn[40], line 4\u001b[0m\n\u001b[0;32m      1\u001b[0m \u001b[39m# However, you will get an error if you try to modify your tuple in any way\u001b[39;00m\n\u001b[0;32m      3\u001b[0m my_tuple \u001b[39m=\u001b[39m (\u001b[39m1\u001b[39m, \u001b[39m2\u001b[39m, \u001b[39m3\u001b[39m, \u001b[39m'\u001b[39m\u001b[39ma\u001b[39m\u001b[39m'\u001b[39m, \u001b[39m'\u001b[39m\u001b[39mb\u001b[39m\u001b[39m'\u001b[39m)\n\u001b[1;32m----> 4\u001b[0m my_tuple[\u001b[39m2\u001b[39;49m] \u001b[39m=\u001b[39m \u001b[39m4\u001b[39m\n",
      "\u001b[1;31mTypeError\u001b[0m: 'tuple' object does not support item assignment"
     ]
    }
   ],
   "source": [
    "# However, you will get an error if you try to modify your tuple in any way\n",
    "\n",
    "my_tuple = (1, 2, 3, 'a', 'b')\n",
    "my_tuple[2] = 4"
   ]
  },
  {
   "attachments": {},
   "cell_type": "markdown",
   "metadata": {},
   "source": [
    "### Let's Recap\n",
    "In this chapter, you have learned all the basics of using Python’s different built-in \"collection types\":\n",
    "* **Lists**: an **ordered, editable** collection where each item is associated with an **index**\n",
    "* **Dictionaries**: an **unordered, editable** collection where each item is associated with a **key**\n",
    "* **Tuples**: an ordered, non-mutable collection , where each item is associated with an **index**\n",
    "* The most common actions performed with lists and dictionaries are:\n",
    "    * **Access** an item\n",
    "    * **Add** an item\n",
    "    * **Delete** an item\n",
    "    * **Modify** an item\n",
    "    * **Count** the number of items stored\n",
    "* We can perform these different actions via **methods**."
   ]
  },
  {
   "attachments": {},
   "cell_type": "markdown",
   "metadata": {},
   "source": [
    "## Control Your Code with Conditional Structures\n",
    "### Print information fi Available"
   ]
  },
  {
   "cell_type": "code",
   "execution_count": null,
   "metadata": {},
   "outputs": [],
   "source": [
    "username = input('What is your name, dear stranger?')"
   ]
  },
  {
   "cell_type": "code",
   "execution_count": null,
   "metadata": {},
   "outputs": [
    {
     "name": "stdout",
     "output_type": "stream",
     "text": [
      "Hello Adam !\n"
     ]
    }
   ],
   "source": [
    "name = input('What is your name, dear stranger?')\n",
    "\n",
    "if len(name) > 0:\n",
    "    print(\"Hello\", name, \"!\")\n",
    "else:\n",
    "    print(\"Hellow, workd!\")"
   ]
  },
  {
   "attachments": {},
   "cell_type": "markdown",
   "metadata": {},
   "source": [
    "### Use Booleans:The No-Half-Measure Type"
   ]
  },
  {
   "cell_type": "code",
   "execution_count": null,
   "metadata": {},
   "outputs": [],
   "source": [
    "thisCourseIsGreat = True\n",
    "itsAuthorIsVeryHumble = False"
   ]
  },
  {
   "cell_type": "code",
   "execution_count": null,
   "metadata": {},
   "outputs": [
    {
     "data": {
      "text/plain": [
       "True"
      ]
     },
     "execution_count": 4,
     "metadata": {},
     "output_type": "execute_result"
    }
   ],
   "source": [
    "weather = \"The weather is great!\"\n",
    "weather.startswith(\"The weather\") # -> True"
   ]
  },
  {
   "attachments": {},
   "cell_type": "markdown",
   "metadata": {},
   "source": [
    "### Comparison Operators\n",
    "* **==**  equal to (two values are exactly the same)\n",
    "* **!=**  different from\n",
    "* **<**  less than\n",
    "* **<=**  less than or equal to\n",
    "* **>**  greater than\n",
    "* **>=**  greater than or equal to"
   ]
  },
  {
   "cell_type": "code",
   "execution_count": null,
   "metadata": {},
   "outputs": [
    {
     "name": "stdout",
     "output_type": "stream",
     "text": [
      "under 21\n"
     ]
    }
   ],
   "source": [
    "age = 15\n",
    "\n",
    "if age >= 21:\n",
    "    print(age)\n",
    "else:\n",
    "    print(\"under 21\")"
   ]
  },
  {
   "attachments": {},
   "cell_type": "markdown",
   "metadata": {},
   "source": [
    "### Logical Operators\n",
    "* **and** : the **AND** operator.\n",
    "The final result is true only when all expressions/values are true. For example: the result of  **expression1 and expression2**  will be True only if   **expression1**  is true **AND** **expression2**  is also true.\n",
    "\n",
    "* **or** : the **OR** operator.\n",
    "The final result is true when at least one of the expressions/values is true. For example: the result of  **expression1  or  expression2**   will be at True if   **expression1**  is true **OR** **expression2**  is true.\n",
    "\n",
    "* **not** : the **NOT** operator.\n",
    "This simply reverses the result of the given expression. For example, the result of   **not(expression)**  is true when   **expression**  is false.\n",
    "\n",
    "* Another useful logical operator in Python is the   **in**  operator. This returns   **True**  when a value is found in a sequence (a string or a list);  **False** , if not."
   ]
  },
  {
   "cell_type": "code",
   "execution_count": null,
   "metadata": {},
   "outputs": [
    {
     "data": {
      "text/plain": [
       "False"
      ]
     },
     "execution_count": 6,
     "metadata": {},
     "output_type": "execute_result"
    }
   ],
   "source": [
    "myList = [4, 2, 3, 2, 10]\n",
    "myStringList = [\"a\", \"b\", \"c\", \"d\"]\n",
    "myString = \"The weather is really good today!\"\n",
    "\n",
    "4 in myList # True\n",
    "0 in myList # False\n",
    "0 in myStringList # False\n",
    "\"c\" in myStringList # True\n",
    "\"e\" in myStringList # False\n",
    "\"weather\" in myString # True\n",
    "\"really\" in myString # True\n",
    "\"rain?\" in myString # False"
   ]
  },
  {
   "attachments": {},
   "cell_type": "markdown",
   "metadata": {},
   "source": [
    "### Manage a Chain of Conditions"
   ]
  },
  {
   "cell_type": "code",
   "execution_count": null,
   "metadata": {},
   "outputs": [
    {
     "name": "stdout",
     "output_type": "stream",
     "text": [
      "Loan in process of validation: under study\n"
     ]
    }
   ],
   "source": [
    "account = input(\"What is your account balance?\")\n",
    "account = int(account) # transform the answer into an integer\n",
    "\n",
    "if account >= 10000:\n",
    "    print(\"Loan granted!\")\n",
    "elif account >= 100 and account < 10000:\n",
    "    print(\"Loan in process of validation: under study\")\n",
    "else:\n",
    "    print(\"Loan refused\")"
   ]
  },
  {
   "attachments": {},
   "cell_type": "markdown",
   "metadata": {},
   "source": [
    "#### Manage a Chain of Conditions\n",
    "* exercise: https://colab.research.google.com/github/OpenClassrooms-Student-Center/python-basics-data-analysis/blob/main/P3C2_ex.ipynb\n",
    "* solution: https://colab.research.google.com/github/OpenClassrooms-Student-Center/python-basics-data-analysis/blob/main/P3C2_sol.ipynb"
   ]
  },
  {
   "cell_type": "code",
   "execution_count": null,
   "metadata": {},
   "outputs": [
    {
     "name": "stdout",
     "output_type": "stream",
     "text": [
      "c is between a and b\n"
     ]
    }
   ],
   "source": [
    "a = 5\n",
    "b = 10\n",
    "c = 7\n",
    "\n",
    "if c < a:\n",
    "    print(\"c is smaller than a\")\n",
    "if c > b:\n",
    "    print(\"c is greater than b\")\n",
    "if c > a and c < b:\n",
    "    print(\"c is between a and b\")"
   ]
  },
  {
   "cell_type": "code",
   "execution_count": null,
   "metadata": {},
   "outputs": [
    {
     "name": "stdout",
     "output_type": "stream",
     "text": [
      "c is between a and b\n"
     ]
    }
   ],
   "source": [
    "a = 5\n",
    "b = 10\n",
    "c = 7\n",
    "\n",
    "if c < a:\n",
    "    print(\"c is smaller than a\")\n",
    "elif c > b:\n",
    "    print(\"c is greater than b\")\n",
    "else:\n",
    "    print(\"c is between a and b\")\n"
   ]
  },
  {
   "attachments": {},
   "cell_type": "markdown",
   "metadata": {},
   "source": []
  },
  {
   "attachments": {},
   "cell_type": "markdown",
   "metadata": {},
   "source": [
    "## Choose the Appropriate Loop\n",
    "https://openclassrooms.com/en/courses/2304731-learn-python-basics-for-data-analysis/7979810-choose-the-appropriate-loop"
   ]
  },
  {
   "attachments": {},
   "cell_type": "markdown",
   "metadata": {},
   "source": [
    "### Loop a Set Number of Times with the for Loop\n",
    "The for Loop on a Collection"
   ]
  },
  {
   "cell_type": "code",
   "execution_count": null,
   "metadata": {},
   "outputs": [
    {
     "name": "stdout",
     "output_type": "stream",
     "text": [
      "7\n",
      "2\n",
      "4\n",
      "10\n"
     ]
    }
   ],
   "source": [
    "myList = [7, 2, 4, 10]\n",
    "\n",
    "for elt in myList:\n",
    "    print(elt)\n"
   ]
  },
  {
   "cell_type": "code",
   "execution_count": null,
   "metadata": {},
   "outputs": [
    {
     "name": "stdout",
     "output_type": "stream",
     "text": [
      "I\n",
      "t\n",
      "e\n",
      "m\n",
      "s\n"
     ]
    }
   ],
   "source": [
    "myString = \"Items\"\n",
    "\n",
    "for elt in myString:\n",
    "    print(elt)"
   ]
  },
  {
   "attachments": {},
   "cell_type": "markdown",
   "metadata": {},
   "source": [
    "### The Loop via an Iterative Integer Value\n",
    "To do this, you will use the   **range(start, stop, step)**  function, which will generate a collection of numbers according to three parameters:\n",
    "* **start** : the first number of the sequence.\n",
    "* **stop**  corresponds to the last number of the sequence, non-inclusive. The function will generate numbers from   start  to   stop-1.\n",
    "* **step** :  the step between each generated number."
   ]
  },
  {
   "cell_type": "code",
   "execution_count": null,
   "metadata": {},
   "outputs": [
    {
     "name": "stdout",
     "output_type": "stream",
     "text": [
      "0\n",
      "1\n",
      "2\n",
      "3\n",
      "4\n",
      "0\n",
      "1\n",
      "2\n",
      "3\n",
      "4\n",
      "0\n",
      "1\n",
      "2\n",
      "3\n",
      "4\n",
      "0\n",
      "2\n",
      "4\n"
     ]
    }
   ],
   "source": [
    "for i in range(0, 5, 1):\n",
    "    print(i) # -> print from 0 to 4 by steps of 1 (end -1)\n",
    "\n",
    "for i in range(0, 5):\n",
    "    print(i) # -> prints from 0to 4 also (default step is 1)\n",
    "\n",
    "for i in range(5):\n",
    "    print(i) # -> prints from 0 to 4 also (default start is 0)\n",
    "\n",
    "for i in range(0, 5, 2):\n",
    "    print(i) # -> print 0, 2, then 4"
   ]
  },
  {
   "attachments": {},
   "cell_type": "markdown",
   "metadata": {},
   "source": [
    "### Loop According to a Condition with the while Loop"
   ]
  },
  {
   "cell_type": "code",
   "execution_count": null,
   "metadata": {},
   "outputs": [
    {
     "name": "stdout",
     "output_type": "stream",
     "text": [
      "I planted 1 trees\n",
      "I planted 2 trees\n",
      "I planted 3 trees\n",
      "I planted 4 trees\n",
      "I planted 5 trees\n",
      "I planted 6 trees\n",
      "I planted 7 trees\n",
      "I planted 8 trees\n",
      "I planted 9 trees\n",
      "I planted 10 trees\n",
      "I have a nice forest!\n"
     ]
    }
   ],
   "source": [
    "numberTrees = 0\n",
    "\n",
    "while numberTrees < 10:\n",
    "    numberTrees += 1\n",
    "    print(\"I planted\", numberTrees, \"trees\")\n",
    "\n",
    "print(\"I have a nice forest!\")"
   ]
  },
  {
   "attachments": {},
   "cell_type": "markdown",
   "metadata": {},
   "source": [
    "#### Writing FOR and WHILE loops\n",
    "* exercise: https://colab.research.google.com/github/OpenClassrooms-Student-Center/python-basics-data-analysis/blob/main/P3C3_ex.ipynb\n",
    "* solution: https://colab.research.google.com/github/OpenClassrooms-Student-Center/python-basics-data-analysis/blob/main/P3C3_sol.ipynb"
   ]
  },
  {
   "cell_type": "code",
   "execution_count": null,
   "metadata": {},
   "outputs": [
    {
     "name": "stdout",
     "output_type": "stream",
     "text": [
      "OpenClassrooms is really great!\n",
      "OpenClassrooms is really great!\n",
      "OpenClassrooms is really great!\n",
      "OpenClassrooms is really great!\n",
      "OpenClassrooms is really great!\n"
     ]
    }
   ],
   "source": [
    "for pt in range(0, 5, 1):\n",
    "    print(\"OpenClassrooms is really great!\")"
   ]
  },
  {
   "cell_type": "code",
   "execution_count": null,
   "metadata": {},
   "outputs": [
    {
     "name": "stdout",
     "output_type": "stream",
     "text": [
      "OpenClassrooms is really great!\n",
      "OpenClassrooms is really great!\n",
      "OpenClassrooms is really great!\n",
      "OpenClassrooms is really great!\n",
      "OpenClassrooms is really great!\n"
     ]
    }
   ],
   "source": [
    "ct = 0\n",
    "\n",
    "while ct < 5:\n",
    "    print(\"OpenClassrooms is really great!\")\n",
    "    ct += 1"
   ]
  },
  {
   "attachments": {},
   "cell_type": "markdown",
   "metadata": {},
   "source": [
    "### Skip Some Statements Within Your Loop\n",
    "Use the keywords **continue** or **break**"
   ]
  },
  {
   "cell_type": "code",
   "execution_count": null,
   "metadata": {},
   "outputs": [
    {
     "name": "stdout",
     "output_type": "stream",
     "text": [
      "0\n",
      "i !=2 & i != 5\n",
      "1\n",
      "i !=2 & i != 5\n",
      "2\n",
      "Special case\n",
      "3\n",
      "i !=2 & i != 5\n",
      "4\n",
      "i !=2 & i != 5\n",
      "5\n",
      "Special case\n",
      "6\n",
      "i !=2 & i != 5\n",
      "7\n",
      "i !=2 & i != 5\n",
      "8\n",
      "i !=2 & i != 5\n",
      "9\n",
      "i !=2 & i != 5\n"
     ]
    }
   ],
   "source": [
    "for i in range(10):\n",
    "    # statements executed at each iteration\n",
    "    print(i)\n",
    "    if (i == 2) or (i == 5):\n",
    "        print(\"Special case\")\n",
    "        continue\n",
    "    # statements not executed if i ==2 or 5\n",
    "    print(\"i !=2 & i != 5\")"
   ]
  },
  {
   "cell_type": "code",
   "execution_count": null,
   "metadata": {},
   "outputs": [
    {
     "name": "stdout",
     "output_type": "stream",
     "text": [
      "I have an orange\n"
     ]
    }
   ],
   "source": [
    "basket = [\"apple\", \"orange\", \"banana\"]\n",
    "\n",
    "for fruit in basket:\n",
    "    if fruit == \"orange\":\n",
    "        print(\"I have an orange\")\n",
    "        break"
   ]
  },
  {
   "attachments": {},
   "cell_type": "markdown",
   "metadata": {},
   "source": [
    "#### Quiz\n",
    "https://openclassrooms.com/en/courses/2304731-learn-python-basics-for-data-analysis/exercises/4680"
   ]
  },
  {
   "cell_type": "code",
   "execution_count": null,
   "metadata": {},
   "outputs": [
    {
     "name": "stdout",
     "output_type": "stream",
     "text": [
      "['Red', 'Green', 'Yellow']\n"
     ]
    }
   ],
   "source": [
    "colors = []\n",
    "colors.append('Red')\n",
    "colors.append('Green')\n",
    "colors.append('Yellow')\n",
    "print(colors)"
   ]
  },
  {
   "cell_type": "code",
   "execution_count": null,
   "metadata": {},
   "outputs": [
    {
     "ename": "TypeError",
     "evalue": "insert expected 2 arguments, got 1",
     "output_type": "error",
     "traceback": [
      "\u001b[1;31m---------------------------------------------------------------------------\u001b[0m",
      "\u001b[1;31mTypeError\u001b[0m                                 Traceback (most recent call last)",
      "Cell \u001b[1;32mIn[15], line 2\u001b[0m\n\u001b[0;32m      1\u001b[0m colors \u001b[39m=\u001b[39m []\n\u001b[1;32m----> 2\u001b[0m colors\u001b[39m.\u001b[39;49minsert(\u001b[39m'\u001b[39;49m\u001b[39mRed\u001b[39;49m\u001b[39m'\u001b[39;49m)\n\u001b[0;32m      3\u001b[0m colors\u001b[39m.\u001b[39minsert(\u001b[39m'\u001b[39m\u001b[39mGreen\u001b[39m\u001b[39m'\u001b[39m)\n\u001b[0;32m      4\u001b[0m colors\u001b[39m.\u001b[39minsert(\u001b[39m'\u001b[39m\u001b[39mYellow\u001b[39m\u001b[39m'\u001b[39m)\n",
      "\u001b[1;31mTypeError\u001b[0m: insert expected 2 arguments, got 1"
     ]
    }
   ],
   "source": [
    "colors = []\n",
    "colors.insert('Red')\n",
    "colors.insert('Green')\n",
    "colors.insert('Yellow')\n",
    "print(colors)"
   ]
  },
  {
   "cell_type": "code",
   "execution_count": null,
   "metadata": {},
   "outputs": [
    {
     "ename": "IndexError",
     "evalue": "list assignment index out of range",
     "output_type": "error",
     "traceback": [
      "\u001b[1;31m---------------------------------------------------------------------------\u001b[0m",
      "\u001b[1;31mIndexError\u001b[0m                                Traceback (most recent call last)",
      "Cell \u001b[1;32mIn[16], line 2\u001b[0m\n\u001b[0;32m      1\u001b[0m frequency \u001b[39m=\u001b[39m []\n\u001b[1;32m----> 2\u001b[0m frequency[\u001b[39m0\u001b[39;49m] \u001b[39m=\u001b[39m \u001b[39m'\u001b[39m\u001b[39mMonday\u001b[39m\u001b[39m'\u001b[39m\n\u001b[0;32m      3\u001b[0m frequency[\u001b[39m1\u001b[39m] \u001b[39m=\u001b[39m \u001b[39m'\u001b[39m\u001b[39mfriday\u001b[39m\u001b[39m'\u001b[39m\n",
      "\u001b[1;31mIndexError\u001b[0m: list assignment index out of range"
     ]
    }
   ],
   "source": [
    "frequency = []\n",
    "frequency[0] = 'Monday'\n",
    "frequency[1] = 'friday'"
   ]
  },
  {
   "cell_type": "code",
   "execution_count": null,
   "metadata": {},
   "outputs": [],
   "source": [
    "frequency = ['sunday', 'monday', 'tuesday','wednesday']\n",
    "frequency.remove('monday')"
   ]
  },
  {
   "cell_type": "code",
   "execution_count": null,
   "metadata": {},
   "outputs": [
    {
     "name": "stdout",
     "output_type": "stream",
     "text": [
      "1\n",
      "2\n",
      "4\n"
     ]
    }
   ],
   "source": [
    "# Question 6\n",
    "if 'bar' in {'foo': 1, 'bar': 2, 'baz': 3}:\n",
    "   print(1)\n",
    "   print(2)\n",
    "   if 'a' in 'qux':\n",
    "      print(3)\n",
    "print(4)"
   ]
  },
  {
   "cell_type": "code",
   "execution_count": null,
   "metadata": {},
   "outputs": [
    {
     "name": "stdout",
     "output_type": "stream",
     "text": [
      "yeah!\n"
     ]
    }
   ],
   "source": [
    "# Question 7\n",
    "d = {'a': 0, 'b': 1, 'c': 0}\n",
    "\n",
    "if d['a'] > 0:\n",
    "   print('yeah!')\n",
    "elif d['b'] > 0:\n",
    "   print('yeah!')\n",
    "elif d['c'] > 0:\n",
    "   print('ok')\n",
    "elif d['d'] > 0:\n",
    "   print('ok')\n",
    "else:\n",
    "   print('not ok')"
   ]
  },
  {
   "cell_type": "code",
   "execution_count": null,
   "metadata": {},
   "outputs": [
    {
     "name": "stdout",
     "output_type": "stream",
     "text": [
      "corge\n",
      "qux\n",
      "baz\n",
      "Done.\n"
     ]
    }
   ],
   "source": [
    "# Question 9\n",
    "a = ['foo', 'bar', 'baz', 'qux', 'corge']\n",
    " \n",
    "while a:\n",
    "   if len(a) < 3:\n",
    "      break\n",
    "   print(a.pop())\n",
    "print('Done.')"
   ]
  },
  {
   "attachments": {},
   "cell_type": "markdown",
   "metadata": {},
   "source": [
    "# Familiarize Yourself With Python Modules and Libraries\n",
    "## A Module in Python\n",
    "A **module** is a Python file containing a set of predefined and operational **functions**, **classes**, and **variables**, which you can use as you wish in your code!\n",
    "\n",
    "For example, if you are working on a problem involving geometry, you might need:\n",
    "\n",
    "* **classes**:\n",
    "    * Square—defined by the length of its side\n",
    "    * Triangle—defined by the length of its three sides\n",
    "    * Circle—defined by its radius\n",
    "    * Etc.\n",
    "\n",
    "* **variables**:\n",
    "    * Pi: constant necessary for calculating the area of a circle, equal to 3.1415...\n",
    "    * Phi: constant that represents the golden ratio, equal to 1.6180...\n",
    "\n",
    "* **functions**:\n",
    "    * Area: takes as parameter a geometrical object (square, triangle, etc.) and calculates its area\n",
    "    * Angles: takes a triangle as a parameter, and calculates its internal angles\n",
    "    * Etc.\n"
   ]
  },
  {
   "cell_type": "code",
   "execution_count": 20,
   "metadata": {},
   "outputs": [],
   "source": [
    "'''\n",
    "Module geometry.py\n",
    "'''\n",
    "# variables\n",
    "pi = 3.14159265359\n",
    "phi = 1.6180\n",
    "\n",
    "# function that calculates the area\n",
    "def area(obj):\n",
    "    if type(obj) == square:\n",
    "        return obj.a**2\n",
    "\n",
    "# definitions of some classes\n",
    "class square(object):\n",
    "    def __init__(self,a):\n",
    "        self.a = a\n",
    "\n",
    "class triangle(object):\n",
    "    def __init__(self,a,b,c):\n",
    "        self.a = a\n",
    "        self.b = b\n",
    "        self.c = c\n",
    "\n",
    "# variables\n",
    "pi = 3.14159265359\n",
    "phi = 1.618\n",
    "\n",
    "#function that calculates the area\n",
    "def area(obj):\n",
    "    if type(obj) == square:\n",
    "        return obj.a**2\n",
    "    \n",
    "# definition of some classes\n",
    "class square(object):\n",
    "    def __init__(self,a):\n",
    "        self.a = a\n",
    "\n",
    "class triangle(object):\n",
    "    def __init__(self,a,b,c):\n",
    "        self.a = a\n",
    "        self.b = b\n",
    "        self.c = c\n"
   ]
  },
  {
   "attachments": {},
   "cell_type": "markdown",
   "metadata": {},
   "source": [
    "To **import a module**, you will need the  **import**  keyword. Here is an example with our geometry module:"
   ]
  },
  {
   "cell_type": "code",
   "execution_count": 21,
   "metadata": {},
   "outputs": [
    {
     "name": "stdout",
     "output_type": "stream",
     "text": [
      "3.14159265359\n"
     ]
    },
    {
     "data": {
      "text/plain": [
       "16"
      ]
     },
     "execution_count": 21,
     "metadata": {},
     "output_type": "execute_result"
    }
   ],
   "source": [
    "import geometry\n",
    "\n",
    "squa = geometry.square(4)\n",
    "tri = geometry.triangle(3, 6, 5)\n",
    "\n",
    "print(geometry.pi) # -> 3.14159265359\n",
    "\n",
    "geometry.area(squa) # -> 16"
   ]
  },
  {
   "cell_type": "code",
   "execution_count": 22,
   "metadata": {},
   "outputs": [
    {
     "name": "stdout",
     "output_type": "stream",
     "text": [
      "3.14159265359\n"
     ]
    }
   ],
   "source": [
    "import geometry as geo # we can now access geo.area() or geo.pi\n",
    "\n",
    "from geometry import pi\n",
    "print(pi) # -> 3.14159265359"
   ]
  },
  {
   "attachments": {},
   "cell_type": "markdown",
   "metadata": {},
   "source": [
    "A particular case of this last method is to import in one line all the objects contained in a module via the  ** \"*\" ** notation. However, this is not the recommended method, in order to avoid, for example, conflicts between several modules that might have identical function names.\n",
    "\n",
    "from geometry import *"
   ]
  },
  {
   "attachments": {},
   "cell_type": "markdown",
   "metadata": {},
   "source": [
    "## When a Module is Not Enough: Packages\n",
    "A **package** (sometimes called a ***library***) is a collection, a **set of Python modules**. As you have seen above, a module is a Python file. A package is simply a folder containing several Python files (.py) and an additional file named   **__init__.py**. This differentiates a package from an ordinary folder containing only Python codes.\n",
    "\n",
    "For example, you could have stored your geometry module in three different files instead of just one:\n",
    "* One for classes: classes.py\n",
    "* One for variables: variables.py\n",
    "* One for functions: functions.py\n",
    "\n",
    "You will need to use the . operator to access the module after importing the package:"
   ]
  },
  {
   "cell_type": "code",
   "execution_count": 33,
   "metadata": {},
   "outputs": [
    {
     "ename": "AttributeError",
     "evalue": "module 'geometry' has no attribute 'variables'",
     "output_type": "error",
     "traceback": [
      "\u001b[1;31m---------------------------------------------------------------------------\u001b[0m",
      "\u001b[1;31mAttributeError\u001b[0m                            Traceback (most recent call last)",
      "Cell \u001b[1;32mIn[33], line 3\u001b[0m\n\u001b[0;32m      1\u001b[0m \u001b[39mimport\u001b[39;00m \u001b[39mgeometry\u001b[39;00m \u001b[39m# import all the geometry package\u001b[39;00m\n\u001b[1;32m----> 3\u001b[0m \u001b[39mprint\u001b[39m(geometry\u001b[39m.\u001b[39;49mvariables\u001b[39m.\u001b[39mpi) \u001b[39m# -> 3.1415...\u001b[39;00m\n\u001b[0;32m      4\u001b[0m \u001b[39m# squa = geometry.classes.square(4)\u001b[39;00m\n\u001b[0;32m      5\u001b[0m \u001b[39m# geometry.functions.area(squa) # -> 16\u001b[39;00m\n",
      "\u001b[1;31mAttributeError\u001b[0m: module 'geometry' has no attribute 'variables'"
     ]
    }
   ],
   "source": [
    "import geometry # import all the geometry package\n",
    "\n",
    "print(geometry.variables.pi) # -> 3.1415...\n",
    "# squa = geometry.classes.square(4)\n",
    "# geometry.functions.area(squa) # -> 16"
   ]
  },
  {
   "cell_type": "code",
   "execution_count": 30,
   "metadata": {},
   "outputs": [
    {
     "ename": "ModuleNotFoundError",
     "evalue": "No module named 'geometry.variables'; 'geometry' is not a package",
     "output_type": "error",
     "traceback": [
      "\u001b[1;31m---------------------------------------------------------------------------\u001b[0m",
      "\u001b[1;31mModuleNotFoundError\u001b[0m                       Traceback (most recent call last)",
      "Cell \u001b[1;32mIn[30], line 1\u001b[0m\n\u001b[1;32m----> 1\u001b[0m \u001b[39mimport\u001b[39;00m \u001b[39mgeometry\u001b[39;00m\u001b[39m.\u001b[39;00m\u001b[39mvariables\u001b[39;00m \u001b[39mas\u001b[39;00m \u001b[39mvar\u001b[39;00m \u001b[39m# import only what is defined in variables.py\u001b[39;00m\n\u001b[0;32m      3\u001b[0m \u001b[39mprint\u001b[39m(var\u001b[39m.\u001b[39mpi) \u001b[39m# -> 3.1415...\u001b[39;00m\n",
      "\u001b[1;31mModuleNotFoundError\u001b[0m: No module named 'geometry.variables'; 'geometry' is not a package"
     ]
    }
   ],
   "source": [
    "import geometry.variables as var # import only what is defined in variables.py\n",
    "\n",
    "print(var.pi) # -> 3.1415..."
   ]
  },
  {
   "attachments": {},
   "cell_type": "markdown",
   "metadata": {},
   "source": [
    "## Packages in Data Analysis\n",
    "Packages are ubiquitous in data analysis with Python. Indeed, many packages have been created specifically to address the issues that this subject involves. As you progress, you will be required to:\n",
    "\n",
    "* **manipulate your data** to facilitate analysis.\n",
    "* make **various relevant graphs** representing the behavior of your data.\n",
    "* use **statistical methods**.\n",
    "* run **machine learning algorithms** of varying complexity.\n",
    "* etc."
   ]
  },
  {
   "cell_type": "code",
   "execution_count": 2,
   "metadata": {},
   "outputs": [
    {
     "data": {
      "text/plain": [
       "4.0"
      ]
     },
     "execution_count": 2,
     "metadata": {},
     "output_type": "execute_result"
    }
   ],
   "source": [
    "import numpy as np\n",
    "np.sqrt(16) # -> 4.0"
   ]
  },
  {
   "attachments": {},
   "cell_type": "markdown",
   "metadata": {},
   "source": [
    "### Let's Recap\n",
    "In this chapter, together we have seen the basics of using modules and packages:\n",
    "* A module is a **file** containing Python code (.py extension) that can define **functions**, **classes**, and/or **variables**.\n",
    "* You can **import** any Python module via the import keyword.\n",
    "* To use a function class or a variable within a module, you must use the  .  operator.\n",
    "* A **package** is a set of several Python modules.\n",
    "* There are many packages specifically created for data analysis."
   ]
  },
  {
   "attachments": {},
   "cell_type": "markdown",
   "metadata": {},
   "source": [
    "# Manipulate Random Numbers With the Random Module\n",
    "## Generate Random Numbers\n",
    "* The basic function for generating random numbers is called... **random()** as well (how original!). It will generate a **random float between 0 and 1 (not including 0 or 1)**. \n",
    "* **uniform(a, b)** : will generate a random float between   a  and  b .\n",
    "* **randint(a, b)** : as its name suggests, this one is similar to   uniform  except that the random number generated is an integer this time!"
   ]
  },
  {
   "cell_type": "code",
   "execution_count": 3,
   "metadata": {},
   "outputs": [],
   "source": [
    "import random"
   ]
  },
  {
   "cell_type": "code",
   "execution_count": 4,
   "metadata": {},
   "outputs": [
    {
     "name": "stdout",
     "output_type": "stream",
     "text": [
      "0.7843085681750601\n",
      "0.38537745677856106\n",
      "0.6267257135674579\n"
     ]
    }
   ],
   "source": [
    "for i in range(3):\n",
    "    print(random.random())"
   ]
  },
  {
   "cell_type": "code",
   "execution_count": 5,
   "metadata": {},
   "outputs": [
    {
     "name": "stdout",
     "output_type": "stream",
     "text": [
      "Example of the uniform function:\n",
      "9.29398576028816\n",
      "8.947425881061045\n",
      "6.289677445880981\n",
      "-----------------------------------------\n",
      "Example of the randint function:\n",
      "9\n",
      "7\n",
      "7\n"
     ]
    }
   ],
   "source": [
    "print('Example of the uniform function:')\n",
    "for i in range(3):\n",
    "    print(random.uniform(5,10))\n",
    "\n",
    "print('-----------------------------------------')\n",
    "print('Example of the randint function:')\n",
    "for i in range(3):\n",
    "    print(random.randint(5,10))"
   ]
  },
  {
   "attachments": {},
   "cell_type": "markdown",
   "metadata": {},
   "source": [
    "## Generate a Random Number According to a Given Distribution\n",
    "gauss(mean, standard_deviation)"
   ]
  },
  {
   "cell_type": "code",
   "execution_count": 6,
   "metadata": {},
   "outputs": [
    {
     "name": "stdout",
     "output_type": "stream",
     "text": [
      "-1.0133520520148744\n",
      "1.220711880409659\n",
      "-0.8875657517790255\n",
      "0.8716246216027277\n",
      "1.2185776450970203\n",
      "-1.0641168523398439\n",
      "2.2990117542319255\n",
      "0.8581522771874979\n",
      "-0.097878962979323\n",
      "-0.05848303620945914\n"
     ]
    }
   ],
   "source": [
    "for i in range(10):\n",
    "    print(random.gauss(0, 1))"
   ]
  },
  {
   "attachments": {},
   "cell_type": "markdown",
   "metadata": {},
   "source": [
    "## Choose Randomly From a List: Subsampling\n",
    "The **random** module goes a step further by offering a function that lets you make the selection directly from the list: the    **choice**  function."
   ]
  },
  {
   "cell_type": "code",
   "execution_count": 8,
   "metadata": {},
   "outputs": [
    {
     "name": "stdout",
     "output_type": "stream",
     "text": [
      "two\n",
      "one\n",
      "one\n"
     ]
    }
   ],
   "source": [
    "liste = ['one', 'two', 'three', 'four', 'five']\n",
    "for i in range(3):\n",
    "    print(random.choice(liste))"
   ]
  },
  {
   "attachments": {},
   "cell_type": "markdown",
   "metadata": {},
   "source": [
    "The evolution of this is the  **choices**  function, now making it possible to select a sample from the initial list, **with replacement**:"
   ]
  },
  {
   "cell_type": "code",
   "execution_count": 9,
   "metadata": {},
   "outputs": [
    {
     "name": "stdout",
     "output_type": "stream",
     "text": [
      "['five', 'one']\n",
      "['two', 'one', 'five']\n"
     ]
    }
   ],
   "source": [
    "print(random.choices(liste, k=2))\n",
    "print(random.choices(liste, k=3))"
   ]
  },
  {
   "attachments": {},
   "cell_type": "markdown",
   "metadata": {},
   "source": [
    "Note how, in the second line, we get “two” returned twice, because the first “two” was effectively put back into the list once it was initially drawn.\n",
    "\n",
    "This is called ***subsampling***. The corresponding function, for a sample **without replacement**, is sample :"
   ]
  },
  {
   "cell_type": "code",
   "execution_count": 10,
   "metadata": {},
   "outputs": [
    {
     "name": "stdout",
     "output_type": "stream",
     "text": [
      "['three', 'one']\n",
      "['five', 'three', 'two']\n"
     ]
    }
   ],
   "source": [
    "print(random.sample(liste, 2))\n",
    "print(random.sample(liste, 3))"
   ]
  },
  {
   "attachments": {},
   "cell_type": "markdown",
   "metadata": {},
   "source": [
    "### random — Generate pseudo-random numbers\n",
    "https://docs.python.org/3/library/random.html"
   ]
  },
  {
   "attachments": {},
   "cell_type": "markdown",
   "metadata": {},
   "source": [
    "### Let’s Recap\n",
    "You have seen the main features available through the random module. You can now:\n",
    "* generate a random number, **integer**, or **decimal in a given range**.\n",
    "* generate a random number **according to a given distribution**.\n",
    "* randomly select **one or more items from a list**, with or without replacement.\n"
   ]
  },
  {
   "attachments": {},
   "cell_type": "markdown",
   "metadata": {},
   "source": [
    "### Quiz\n",
    "https://openclassrooms.com/en/courses/2304731-learn-python-basics-for-data-analysis/exercises/4681"
   ]
  },
  {
   "cell_type": "code",
   "execution_count": 13,
   "metadata": {},
   "outputs": [
    {
     "name": "stdout",
     "output_type": "stream",
     "text": [
      "10.0\n"
     ]
    }
   ],
   "source": [
    "import random\n",
    "\n",
    "n = random.uniform(10,10)\n",
    "print(n)"
   ]
  },
  {
   "cell_type": "code",
   "execution_count": 1,
   "metadata": {},
   "outputs": [
    {
     "name": "stdout",
     "output_type": "stream",
     "text": [
      "Pear\n"
     ]
    }
   ],
   "source": [
    "# Question 2\n",
    "import random\n",
    "\n",
    "basket = [\"Apple\", \"Pear\", \"Banana\", \"Pineapple\", \"Orange\"]\n",
    "result = random.choice(basket)\n",
    "print(result)"
   ]
  },
  {
   "cell_type": "code",
   "execution_count": 3,
   "metadata": {},
   "outputs": [
    {
     "name": "stdout",
     "output_type": "stream",
     "text": [
      "Apple\n"
     ]
    }
   ],
   "source": [
    "# Question 2\n",
    "import random\n",
    "\n",
    "basket = [\"Apple\", \"Pear\", \"Banana\", \"Pineapple\", \"Orange\"]\n",
    "result = basket[random.randint(0, 4)]\n",
    "print(result)"
   ]
  },
  {
   "cell_type": "code",
   "execution_count": 4,
   "metadata": {},
   "outputs": [
    {
     "name": "stdout",
     "output_type": "stream",
     "text": [
      "1\n"
     ]
    }
   ],
   "source": [
    "# Question 4\n",
    "'''\n",
    "Game A\n",
    "Tails probability p=0.49\n",
    "\n",
    "Game B\n",
    "First coin tails p1=0.09\n",
    "Second coin tails p2=0.74\n",
    "'''\n",
    "\n",
    "import random\n",
    "coin = random.randint(0,1)\n",
    "print(coin)\n"
   ]
  },
  {
   "cell_type": "code",
   "execution_count": 6,
   "metadata": {},
   "outputs": [
    {
     "name": "stdout",
     "output_type": "stream",
     "text": [
      "[305, 129, 491, 628, 467, 465, 847, 62, 944, 692]\n"
     ]
    }
   ],
   "source": [
    "# Question 6\n",
    "# range(p) produces a sequence of integers from 0 to p-1\n",
    "population = range(1000)\n",
    "\n",
    "# of tickets desired\n",
    "N = 10\n",
    "print(random.sample(population, N))\n",
    "\n"
   ]
  },
  {
   "attachments": {},
   "cell_type": "markdown",
   "metadata": {},
   "source": [
    "## Question 4\n",
    "https://colab.research.google.com/github/OpenClassrooms-Student-Center/python-basics-data-analysis/blob/main/P4C3_1.ipynb\n",
    "### Let's consider two games of chance :\n",
    "\n",
    "* First, a game that we will call **A**, which is a simple coin flip with a biased coin (tails with a probability of p=0.49). The player bets one dollar and flips the coin: if they get tails, they win one dollar and recoup their bet, otherwise they lose their bet.\n",
    "* Then, a game that we will call **B**, which is a game with two biased coins. The first coin gives tails with probability p1 = 0.09 and the second coin gives tails with probability p2 = 0.74. The player can only bet one dollar at a time! However, at each flip, we look at the player's total amount of money to determine which coin to flip: if the amount is a multiple of three, we flip the first coin, otherwise we flip the second coin. As in game A, the player recoups their bet plus an extra dollar if the chosen coin lands on tails, otherwise they lose their bet.\n",
    "Implement these two games of chance with Python, using the libraries seen earlier. A game is considered won when a player is finishes with more money than they started with after playing a large number (e.g., several hundred) of rounds.\n",
    "\n",
    "Let's organize our code into two parts:\n",
    "* First of all, the definition of the different coins that will be flipped via different functions.\n",
    "* The test of our games on many flips.\n",
    "So let's define the functions:"
   ]
  },
  {
   "cell_type": "code",
   "execution_count": 7,
   "metadata": {},
   "outputs": [],
   "source": [
    "import random\n",
    "\n",
    "def coinGameA():\n",
    "    if random.uniform(0,1) <= 0.49:\n",
    "        return 'tails'\n",
    "    else:\n",
    "        return 'heads'\n",
    "    \n",
    "def coinGameB1():\n",
    "    if random.uniform(0,1) <= 0.09:\n",
    "        return 'tails'\n",
    "    else:\n",
    "        return 'heads'\n",
    "    \n",
    "def coinGameB2():\n",
    "    if random.random() <= 0.74:\n",
    "        return 'tails'\n",
    "    else:\n",
    "        return 'heads'"
   ]
  },
  {
   "attachments": {},
   "cell_type": "markdown",
   "metadata": {},
   "source": [
    "### Test game A"
   ]
  },
  {
   "cell_type": "code",
   "execution_count": 13,
   "metadata": {},
   "outputs": [
    {
     "name": "stdout",
     "output_type": "stream",
     "text": [
      "After 10000 flips, we have $ 730 of capital\n"
     ]
    }
   ],
   "source": [
    "capital = 1000\n",
    "nb_flips = 10000\n",
    "\n",
    "for i in range(nb_flips):\n",
    "    coin = coinGameA()\n",
    "    if coin == 'tails':\n",
    "        capital += 1 # we earn $1 if we get tails\n",
    "    else:\n",
    "        capital -= 1 # we lose $1 otherwise\n",
    "\n",
    "print(\"After\", nb_flips, \"flips, we have $\" , capital, \"of capital\")\n"
   ]
  },
  {
   "attachments": {},
   "cell_type": "markdown",
   "metadata": {},
   "source": [
    "### Test Game B"
   ]
  },
  {
   "cell_type": "code",
   "execution_count": 16,
   "metadata": {},
   "outputs": [
    {
     "name": "stdout",
     "output_type": "stream",
     "text": [
      "After 10000 flips, we have $ 818 of capital\n",
      "After 10,000 flips, we have $818 of capital\n"
     ]
    }
   ],
   "source": [
    "capital = 1000\n",
    "nb_flips = 10000\n",
    "\n",
    "for i in range(nb_flips):\n",
    "    if capital % 3 == 0: # we check if the capital is a multiple of 3 or not\n",
    "        coin = coinGameB1()\n",
    "    else:\n",
    "        coin = coinGameB2()\n",
    "\n",
    "    if coin == 'tails':\n",
    "        capital += 1 # we are $1 if we get tails\n",
    "    else: \n",
    "        capital -= 1 # we lose $1 otherwise\n",
    "\n",
    "print(\"After\", nb_flips, \"flips, we have $\", capital, \"of capital\")\n",
    "print(\"After\", f\"{nb_flips:,}\", \"flips, we have ${}\".format(capital), \"of capital\")\n",
    "\n",
    "# print \"Hello {}!\".format(name)"
   ]
  },
  {
   "attachments": {},
   "cell_type": "markdown",
   "metadata": {},
   "source": [
    "### Question 5\n",
    "**We will now mix the two games presented in the previous question! Effectively, at each turn, we now flip a coin which is balanced! If you get tails, you play game A, otherwise you play game B. It is assumed that the player has 1000 dollars as starting capital. After playing 1,000,000 games, what is the status of the game, from the player's point of view?**\n",
    "\n",
    "Again, let's organize our code into two parts:\n",
    "1. First of all, the definition of the different coins that will be flipped via different functions.\n",
    "2. The test of our game on many flips.\n",
    "\n",
    "So let's define the functions:"
   ]
  },
  {
   "cell_type": "code",
   "execution_count": 17,
   "metadata": {},
   "outputs": [],
   "source": [
    "import random\n",
    "\n",
    "def balancedCoin():\n",
    "    if random.uniform(0,1) <= 0.5:\n",
    "        return 'tails'\n",
    "    else:\n",
    "        return 'heads'\n",
    "\n",
    "def coinGameA():\n",
    "    if random.uniform(0,1) <= 0.49:\n",
    "        return 'tails'\n",
    "    else:\n",
    "        return 'heads'\n",
    "    \n",
    "def coinGameB1():\n",
    "    if random.uniform(0,1) <= 0.09:\n",
    "        return 'tails'\n",
    "    else:\n",
    "        return 'heads'\n",
    "    \n",
    "def coinGameB2():\n",
    "    if random.random() <= 0.74:\n",
    "        return 'tails'\n",
    "    else:\n",
    "        return 'heads'"
   ]
  },
  {
   "attachments": {},
   "cell_type": "markdown",
   "metadata": {},
   "source": [
    "#### Mixed Game Test"
   ]
  },
  {
   "cell_type": "code",
   "execution_count": 20,
   "metadata": {},
   "outputs": [
    {
     "name": "stdout",
     "output_type": "stream",
     "text": [
      "After 1000000 flips, we have $ 5972 of capital\n",
      "After 1,000,000 flips, we have $5,972 of capital\n"
     ]
    }
   ],
   "source": [
    "capital = 1000\n",
    "nb_flips = 1000000\n",
    "\n",
    "for i in range(nb_flips):\n",
    "    coin_choice_game = balancedCoin()\n",
    "    \n",
    "    if coin_choice_game == 'tails':\n",
    "        coin = coinGameA() # we start on game A if the balanced coin falls on tails\n",
    "        if coin == 'tails':\n",
    "            capital += 1 # we earn one dollar if we get tails\n",
    "        else:\n",
    "            capital -= 1 # we lose $1 otherwise\n",
    "            \n",
    "    else: # we start on game B if the balanced coin falls on heads\n",
    "        if capital % 3 == 0: # we check if the capital is a multiple of 3 \n",
    "            coin = coinGameB1()\n",
    "        else:\n",
    "            coin = coinGameB2()\n",
    "\n",
    "        if coin == 'tails':\n",
    "            capital += 1 # we earn $1 if we get tails\n",
    "        else:\n",
    "            capital -= 1 # we lose $1 otherwise\n",
    "        \n",
    "\n",
    "print(\"After\", nb_flips, \"flips, we have $\", capital, \"of capital\")\n",
    "print(\"After\", f\"{nb_flips:,}\", \"flips, we have ${}\".format(f\"{capital:,}\"), \"of capital\")"
   ]
  },
  {
   "cell_type": "code",
   "execution_count": 4,
   "metadata": {},
   "outputs": [
    {
     "name": "stdout",
     "output_type": "stream",
     "text": [
      "0.4459176727887544\n"
     ]
    }
   ],
   "source": [
    "# Question 7\n",
    "from numpy import random as rnd\n",
    "x = rnd.random()\n",
    "print(x)"
   ]
  },
  {
   "cell_type": "code",
   "execution_count": 5,
   "metadata": {},
   "outputs": [
    {
     "name": "stdout",
     "output_type": "stream",
     "text": [
      "0.45812581773300987\n"
     ]
    }
   ],
   "source": [
    "# Question 7\n",
    "import numpy as np\n",
    "x = np.random.random()\n",
    "print(x)"
   ]
  },
  {
   "cell_type": "code",
   "execution_count": 6,
   "metadata": {},
   "outputs": [
    {
     "name": "stdout",
     "output_type": "stream",
     "text": [
      "0.45468652243098295\n"
     ]
    }
   ],
   "source": [
    "# Question 7\n",
    "import random\n",
    "x = random.random()\n",
    "print(x)"
   ]
  },
  {
   "cell_type": "code",
   "execution_count": null,
   "metadata": {},
   "outputs": [],
   "source": []
  }
 ],
 "metadata": {
  "kernelspec": {
   "display_name": "Python 3",
   "language": "python",
   "name": "python3"
  },
  "language_info": {
   "codemirror_mode": {
    "name": "ipython",
    "version": 3
   },
   "file_extension": ".py",
   "mimetype": "text/x-python",
   "name": "python",
   "nbconvert_exporter": "python",
   "pygments_lexer": "ipython3",
   "version": "3.11.2"
  },
  "orig_nbformat": 4
 },
 "nbformat": 4,
 "nbformat_minor": 2
}
